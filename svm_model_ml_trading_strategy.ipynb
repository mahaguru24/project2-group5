{
 "cells": [
  {
   "cell_type": "markdown",
   "metadata": {},
   "source": [
    "# Use Machine Learning in a Trading Strategy\n",
    "\n",
    "## Loading and Preparing the Data"
   ]
  },
  {
   "cell_type": "code",
   "execution_count": 22,
   "metadata": {},
   "outputs": [],
   "source": [
    "# Import required libraries\n",
    "import pandas as pd\n",
    "from pathlib import Path"
   ]
  },
  {
   "cell_type": "code",
   "execution_count": 23,
   "metadata": {},
   "outputs": [
    {
     "data": {
      "text/html": [
       "<div>\n",
       "<style scoped>\n",
       "    .dataframe tbody tr th:only-of-type {\n",
       "        vertical-align: middle;\n",
       "    }\n",
       "\n",
       "    .dataframe tbody tr th {\n",
       "        vertical-align: top;\n",
       "    }\n",
       "\n",
       "    .dataframe thead th {\n",
       "        text-align: right;\n",
       "    }\n",
       "</style>\n",
       "<table border=\"1\" class=\"dataframe\">\n",
       "  <thead>\n",
       "    <tr style=\"text-align: right;\">\n",
       "      <th></th>\n",
       "      <th>positive</th>\n",
       "      <th>negative</th>\n",
       "      <th>compound</th>\n",
       "      <th>actual_returns</th>\n",
       "      <th>target_return</th>\n",
       "      <th>Close</th>\n",
       "      <th>Volume</th>\n",
       "    </tr>\n",
       "  </thead>\n",
       "  <tbody>\n",
       "    <tr>\n",
       "      <th>2022-05-31 00:04:00+00:00</th>\n",
       "      <td>27</td>\n",
       "      <td>18</td>\n",
       "      <td>0.263006</td>\n",
       "      <td>0.000528</td>\n",
       "      <td>0.000418</td>\n",
       "      <td>31734.792969</td>\n",
       "      <td>33091584</td>\n",
       "    </tr>\n",
       "    <tr>\n",
       "      <th>2022-05-31 00:06:00+00:00</th>\n",
       "      <td>41</td>\n",
       "      <td>18</td>\n",
       "      <td>0.281656</td>\n",
       "      <td>0.000418</td>\n",
       "      <td>0.000285</td>\n",
       "      <td>31751.789062</td>\n",
       "      <td>8663040</td>\n",
       "    </tr>\n",
       "    <tr>\n",
       "      <th>2022-05-31 00:08:00+00:00</th>\n",
       "      <td>45</td>\n",
       "      <td>36</td>\n",
       "      <td>0.149611</td>\n",
       "      <td>0.000285</td>\n",
       "      <td>0.000119</td>\n",
       "      <td>31783.402344</td>\n",
       "      <td>10358784</td>\n",
       "    </tr>\n",
       "    <tr>\n",
       "      <th>2022-05-31 00:10:00+00:00</th>\n",
       "      <td>53</td>\n",
       "      <td>26</td>\n",
       "      <td>0.314945</td>\n",
       "      <td>0.000119</td>\n",
       "      <td>0.000544</td>\n",
       "      <td>31775.460938</td>\n",
       "      <td>69644288</td>\n",
       "    </tr>\n",
       "    <tr>\n",
       "      <th>2022-05-31 00:12:00+00:00</th>\n",
       "      <td>65</td>\n",
       "      <td>30</td>\n",
       "      <td>0.418451</td>\n",
       "      <td>0.000544</td>\n",
       "      <td>-0.000480</td>\n",
       "      <td>31796.031250</td>\n",
       "      <td>9519104</td>\n",
       "    </tr>\n",
       "  </tbody>\n",
       "</table>\n",
       "</div>"
      ],
      "text/plain": [
       "                           positive  negative  compound  actual_returns  \\\n",
       "2022-05-31 00:04:00+00:00        27        18  0.263006        0.000528   \n",
       "2022-05-31 00:06:00+00:00        41        18  0.281656        0.000418   \n",
       "2022-05-31 00:08:00+00:00        45        36  0.149611        0.000285   \n",
       "2022-05-31 00:10:00+00:00        53        26  0.314945        0.000119   \n",
       "2022-05-31 00:12:00+00:00        65        30  0.418451        0.000544   \n",
       "\n",
       "                           target_return         Close    Volume  \n",
       "2022-05-31 00:04:00+00:00       0.000418  31734.792969  33091584  \n",
       "2022-05-31 00:06:00+00:00       0.000285  31751.789062   8663040  \n",
       "2022-05-31 00:08:00+00:00       0.000119  31783.402344  10358784  \n",
       "2022-05-31 00:10:00+00:00       0.000544  31775.460938  69644288  \n",
       "2022-05-31 00:12:00+00:00      -0.000480  31796.031250   9519104  "
      ]
     },
     "execution_count": 23,
     "metadata": {},
     "output_type": "execute_result"
    }
   ],
   "source": [
    "# Import the final_df_without_y dataset into a Pandas Dataframe\n",
    "trading_df = pd.read_csv(\n",
    "    Path(\"Resources/final_df_without_y.csv\"), \n",
    "    index_col=\"Unnamed: 0\", \n",
    "    infer_datetime_format=True, \n",
    "    parse_dates=True\n",
    ")\n",
    "\n",
    "# Display sample data\n",
    "trading_df.head()"
   ]
  },
  {
   "cell_type": "markdown",
   "metadata": {},
   "source": [
    "### Creating the Target Set"
   ]
  },
  {
   "cell_type": "markdown",
   "metadata": {},
   "source": []
  },
  {
   "cell_type": "code",
   "execution_count": 24,
   "metadata": {},
   "outputs": [],
   "source": [
    "# Create a new column in the `trading_df` called \"signal\" setting its value to zero.\n",
    "trading_df[\"signal\"] = 0.0"
   ]
  },
  {
   "cell_type": "code",
   "execution_count": 25,
   "metadata": {},
   "outputs": [],
   "source": [
    "# Create the signal to buy\n",
    "trading_df.loc[(trading_df[\"actual_returns\"] >= 0), \"signal\"] = 1"
   ]
  },
  {
   "cell_type": "code",
   "execution_count": 26,
   "metadata": {},
   "outputs": [],
   "source": [
    "# Create the signal to sell\n",
    "trading_df.loc[(trading_df[\"actual_returns\"] < 0), \"signal\"] = -1"
   ]
  },
  {
   "cell_type": "code",
   "execution_count": 27,
   "metadata": {},
   "outputs": [],
   "source": [
    "# Copy the new \"signal\" column to a new Series called `y`.\n",
    "y = trading_df[\"signal\"].copy()"
   ]
  },
  {
   "cell_type": "markdown",
   "metadata": {},
   "source": [
    "## Split the Data into Training and Testing Sets"
   ]
  },
  {
   "cell_type": "code",
   "execution_count": 28,
   "metadata": {},
   "outputs": [],
   "source": [
    "# Import required libraries\n",
    "from pandas.tseries.offsets import DateOffset"
   ]
  },
  {
   "cell_type": "code",
   "execution_count": 29,
   "metadata": {},
   "outputs": [
    {
     "name": "stdout",
     "output_type": "stream",
     "text": [
      "2022-05-31 00:04:00+00:00\n"
     ]
    }
   ],
   "source": [
    "X = trading_df[[\"positive\",\"negative\",\"compound\", \"Close\"]]\n",
    "\n",
    "# Select the start of the training period\n",
    "training_begin = X.index.min()\n",
    "\n",
    "# Display the training begin date\n",
    "print(training_begin)"
   ]
  },
  {
   "cell_type": "markdown",
   "metadata": {},
   "source": [
    "## Split the Data into Training and Testing Sets"
   ]
  },
  {
   "cell_type": "code",
   "execution_count": 30,
   "metadata": {},
   "outputs": [],
   "source": [
    "# Import required libraries\n",
    "from pandas.tseries.offsets import DateOffset"
   ]
  },
  {
   "cell_type": "code",
   "execution_count": 31,
   "metadata": {},
   "outputs": [
    {
     "name": "stdout",
     "output_type": "stream",
     "text": [
      "2022-06-02 00:04:00+00:00\n"
     ]
    }
   ],
   "source": [
    "# Select the ending period for the training data with an offset of 3 months\n",
    "training_end = X.index.min() + DateOffset(days=2)\n",
    "\n",
    "# Display the training end date\n",
    "print(training_end)"
   ]
  },
  {
   "cell_type": "code",
   "execution_count": 32,
   "metadata": {},
   "outputs": [],
   "source": [
    "# Generate the X_train and y_train DataFrames\n",
    "X_train = X.loc[training_begin:training_end]\n",
    "y_train = y.loc[training_begin:training_end]"
   ]
  },
  {
   "cell_type": "code",
   "execution_count": 33,
   "metadata": {},
   "outputs": [],
   "source": [
    "# Generate the X_test and y_test DataFrames\n",
    "X_test = X.loc[training_end:]\n",
    "y_test = y.loc[training_end:]"
   ]
  },
  {
   "cell_type": "markdown",
   "metadata": {},
   "source": [
    "## Standardize the Data"
   ]
  },
  {
   "cell_type": "code",
   "execution_count": 34,
   "metadata": {},
   "outputs": [],
   "source": [
    "# Import required libraries\n",
    "from sklearn.preprocessing import StandardScaler"
   ]
  },
  {
   "cell_type": "code",
   "execution_count": 35,
   "metadata": {},
   "outputs": [],
   "source": [
    "# Create a StandardScaler instancCloseCC\n",
    "scaler = StandardScaler()\n",
    " \n",
    "# Apply the scaler model to fit the X-train data\n",
    "X_scaler = scaler.fit(X_train)\n",
    " \n",
    "# Transform the X_train and X_test DataFrames using the X_scaler\n",
    "X_train_scaled = X_scaler.transform(X_train)\n",
    "X_test_scaled = X_scaler.transform(X_test)"
   ]
  },
  {
   "cell_type": "markdown",
   "metadata": {},
   "source": [
    "---\n",
    "\n",
    "## Using Machine Learning Into a Trading Strategy"
   ]
  },
  {
   "cell_type": "code",
   "execution_count": 36,
   "metadata": {},
   "outputs": [],
   "source": [
    "# Import the SVM model\n",
    "from sklearn import svm\n",
    "from sklearn.metrics import classification_report"
   ]
  },
  {
   "cell_type": "code",
   "execution_count": 37,
   "metadata": {},
   "outputs": [
    {
     "data": {
      "text/plain": [
       "array([ 1., -1.,  1.,  1.,  1.,  1., -1., -1.,  1.,  1.])"
      ]
     },
     "execution_count": 37,
     "metadata": {},
     "output_type": "execute_result"
    }
   ],
   "source": [
    "# Create the classifier model\n",
    "svm_model = svm.SVC()\n",
    " \n",
    "# Fit the model to the data using X_train_scaled and y_train\n",
    "svm_model = svm_model.fit(X_train_scaled, y_train)\n",
    "\n",
    "# Use the trained model to predict the trading signals for the training data\n",
    "training_signal_predictions = svm_model.predict(X_train_scaled)\n",
    "\n",
    "# Display the sample predictions\n",
    "training_signal_predictions[:10]"
   ]
  },
  {
   "cell_type": "code",
   "execution_count": 38,
   "metadata": {},
   "outputs": [
    {
     "name": "stdout",
     "output_type": "stream",
     "text": [
      "              precision    recall  f1-score   support\n",
      "\n",
      "        -1.0       0.57      0.48      0.52       932\n",
      "         1.0       0.56      0.65      0.60       936\n",
      "\n",
      "    accuracy                           0.56      1868\n",
      "   macro avg       0.56      0.56      0.56      1868\n",
      "weighted avg       0.56      0.56      0.56      1868\n",
      "\n"
     ]
    }
   ],
   "source": [
    "# Evaluate the model using a classification report\n",
    "training_report = classification_report(y_train, training_signal_predictions)\n",
    "\n",
    "# Display the report\n",
    "print(training_report)"
   ]
  },
  {
   "cell_type": "markdown",
   "metadata": {},
   "source": [
    "### Backtesting a Machine Learning Trading Algorithm"
   ]
  },
  {
   "cell_type": "code",
   "execution_count": 39,
   "metadata": {},
   "outputs": [],
   "source": [
    "# Use the trained model to predict the trading signals for the testing data.\n",
    "testing_signal_predictions = svm_model.predict(X_test_scaled)"
   ]
  },
  {
   "cell_type": "code",
   "execution_count": 40,
   "metadata": {},
   "outputs": [
    {
     "name": "stdout",
     "output_type": "stream",
     "text": [
      "              precision    recall  f1-score   support\n",
      "\n",
      "        -1.0       0.52      0.53      0.53      1733\n",
      "         1.0       0.51      0.50      0.51      1698\n",
      "\n",
      "    accuracy                           0.52      3431\n",
      "   macro avg       0.52      0.52      0.52      3431\n",
      "weighted avg       0.52      0.52      0.52      3431\n",
      "\n"
     ]
    }
   ],
   "source": [
    "# Evaluate the model's ability to predict the trading signal for the testing data\n",
    "testing_report = classification_report(y_test, testing_signal_predictions)\n",
    "\n",
    "# Display the report\n",
    "print(testing_report)"
   ]
  },
  {
   "cell_type": "markdown",
   "metadata": {},
   "source": [
    "### Visually Compare the Actual and Predicted Returns"
   ]
  },
  {
   "cell_type": "code",
   "execution_count": 41,
   "metadata": {},
   "outputs": [
    {
     "data": {
      "text/html": [
       "<div>\n",
       "<style scoped>\n",
       "    .dataframe tbody tr th:only-of-type {\n",
       "        vertical-align: middle;\n",
       "    }\n",
       "\n",
       "    .dataframe tbody tr th {\n",
       "        vertical-align: top;\n",
       "    }\n",
       "\n",
       "    .dataframe thead th {\n",
       "        text-align: right;\n",
       "    }\n",
       "</style>\n",
       "<table border=\"1\" class=\"dataframe\">\n",
       "  <thead>\n",
       "    <tr style=\"text-align: right;\">\n",
       "      <th></th>\n",
       "      <th>predicted_signal</th>\n",
       "      <th>actual_returns</th>\n",
       "      <th>trading_algorithm_returns</th>\n",
       "    </tr>\n",
       "  </thead>\n",
       "  <tbody>\n",
       "    <tr>\n",
       "      <th>2022-06-02 00:04:00+00:00</th>\n",
       "      <td>1.0</td>\n",
       "      <td>-1.033545e-03</td>\n",
       "      <td>-1.033545e-03</td>\n",
       "    </tr>\n",
       "    <tr>\n",
       "      <th>2022-06-02 00:05:00+00:00</th>\n",
       "      <td>1.0</td>\n",
       "      <td>2.234520e-04</td>\n",
       "      <td>2.234520e-04</td>\n",
       "    </tr>\n",
       "    <tr>\n",
       "      <th>2022-06-02 00:06:00+00:00</th>\n",
       "      <td>-1.0</td>\n",
       "      <td>5.250342e-07</td>\n",
       "      <td>-5.250342e-07</td>\n",
       "    </tr>\n",
       "    <tr>\n",
       "      <th>2022-06-02 00:07:00+00:00</th>\n",
       "      <td>1.0</td>\n",
       "      <td>2.923126e-04</td>\n",
       "      <td>2.923126e-04</td>\n",
       "    </tr>\n",
       "    <tr>\n",
       "      <th>2022-06-02 00:09:00+00:00</th>\n",
       "      <td>1.0</td>\n",
       "      <td>-8.236686e-04</td>\n",
       "      <td>-8.236686e-04</td>\n",
       "    </tr>\n",
       "  </tbody>\n",
       "</table>\n",
       "</div>"
      ],
      "text/plain": [
       "                           predicted_signal  actual_returns  \\\n",
       "2022-06-02 00:04:00+00:00               1.0   -1.033545e-03   \n",
       "2022-06-02 00:05:00+00:00               1.0    2.234520e-04   \n",
       "2022-06-02 00:06:00+00:00              -1.0    5.250342e-07   \n",
       "2022-06-02 00:07:00+00:00               1.0    2.923126e-04   \n",
       "2022-06-02 00:09:00+00:00               1.0   -8.236686e-04   \n",
       "\n",
       "                           trading_algorithm_returns  \n",
       "2022-06-02 00:04:00+00:00              -1.033545e-03  \n",
       "2022-06-02 00:05:00+00:00               2.234520e-04  \n",
       "2022-06-02 00:06:00+00:00              -5.250342e-07  \n",
       "2022-06-02 00:07:00+00:00               2.923126e-04  \n",
       "2022-06-02 00:09:00+00:00              -8.236686e-04  "
      ]
     },
     "execution_count": 41,
     "metadata": {},
     "output_type": "execute_result"
    }
   ],
   "source": [
    "# Create a predictions DataFrame\n",
    "predictions_df = pd.DataFrame(index=X_test.index)\n",
    "\n",
    "predictions_df[\"predicted_signal\"] = testing_signal_predictions\n",
    "\n",
    "predictions_df[\"actual_returns\"] = trading_df[\"actual_returns\"]\n",
    "\n",
    "predictions_df[\"trading_algorithm_returns\"] = (\n",
    "    predictions_df[\"actual_returns\"] * predictions_df[\"predicted_signal\"]\n",
    ")\n",
    "\n",
    "# Review the DataFrame\n",
    "predictions_df.head()"
   ]
  },
  {
   "cell_type": "code",
   "execution_count": 42,
   "metadata": {},
   "outputs": [
    {
     "data": {
      "text/plain": [
       "<AxesSubplot:>"
      ]
     },
     "execution_count": 42,
     "metadata": {},
     "output_type": "execute_result"
    },
    {
     "data": {
      "image/png": "[encoded data removed]",
      "text/plain": [
       "<Figure size 432x288 with 1 Axes>"
      ]
     },
     "metadata": {
      "needs_background": "light"
     },
     "output_type": "display_data"
    }
   ],
   "source": [
    "# Calculate and plot the cumulative returns for the `actual_returns` and the `trading_algorithm_returns`\n",
    "(1 + predictions_df[[\"actual_returns\", \"trading_algorithm_returns\"]]).cumprod().plot()"
   ]
  },
  {
   "cell_type": "code",
   "execution_count": null,
   "metadata": {},
   "outputs": [],
   "source": []
  }
 ],
 "metadata": {
  "interpreter": {
   "hash": "1b92770ef413de33e286afc17c085f736ff1d93160bf316611fee8719d7db70e"
  },
  "kernelspec": {
   "display_name": "Python 3.7.13 ('algotrading')",
   "language": "python",
   "name": "python3"
  },
  "language_info": {
   "codemirror_mode": {
    "name": "ipython",
    "version": 3
   },
   "file_extension": ".py",
   "mimetype": "text/x-python",
   "name": "python",
   "nbconvert_exporter": "python",
   "pygments_lexer": "ipython3",
   "version": "3.7.13"
  }
 },
 "nbformat": 4,
 "nbformat_minor": 4
}
