{
  "cells": [
    {
      "cell_type": "markdown",
      "metadata": {
        "id": "ifU70BthTBCD"
      },
      "source": [
        "# Use Machine Learning in a Trading Strategy\n",
        "\n",
        "## Loading and Preparing the Data"
      ]
    },
    {
      "cell_type": "markdown",
      "metadata": {
        "id": "S7oMeViTVUfX"
      },
      "source": []
    },
    {
      "cell_type": "markdown",
      "metadata": {
        "id": "Y55p4TLONlm_"
      },
      "source": []
    },
    {
      "cell_type": "code",
      "execution_count": 142,
      "metadata": {
        "id": "ENLTyn90TBCF"
      },
      "outputs": [],
      "source": [
        "# Import required libraries\n",
        "import pandas as pd\n",
        "from pathlib import Path\n",
        "import numpy as np"
      ]
    },
    {
      "cell_type": "code",
      "execution_count": 117,
      "metadata": {
        "colab": {
          "base_uri": "https://localhost:8080/",
          "height": 357
        },
        "id": "pbOzQZdCTBCG",
        "outputId": "b92c2f7e-f39d-4137-9215-af43885e8ee2"
      },
      "outputs": [
        {
          "data": {
            "text/html": [
              "\n",
              "  <div id=\"df-c99bf49c-3100-4cbb-ba4c-f38127d4b2f1\">\n",
              "    <div class=\"colab-df-container\">\n",
              "      <div>\n",
              "<style scoped>\n",
              "    .dataframe tbody tr th:only-of-type {\n",
              "        vertical-align: middle;\n",
              "    }\n",
              "\n",
              "    .dataframe tbody tr th {\n",
              "        vertical-align: top;\n",
              "    }\n",
              "\n",
              "    .dataframe thead th {\n",
              "        text-align: right;\n",
              "    }\n",
              "</style>\n",
              "<table border=\"1\" class=\"dataframe\">\n",
              "  <thead>\n",
              "    <tr style=\"text-align: right;\">\n",
              "      <th></th>\n",
              "      <th>positive</th>\n",
              "      <th>negative</th>\n",
              "      <th>compound</th>\n",
              "      <th>Open</th>\n",
              "      <th>High</th>\n",
              "      <th>Low</th>\n",
              "      <th>Close</th>\n",
              "      <th>Adj Close</th>\n",
              "      <th>Volume</th>\n",
              "      <th>actual_returns</th>\n",
              "      <th>target_return</th>\n",
              "    </tr>\n",
              "  </thead>\n",
              "  <tbody>\n",
              "    <tr>\n",
              "      <th>2022-05-31 00:04:00+00:00</th>\n",
              "      <td>27</td>\n",
              "      <td>18</td>\n",
              "      <td>0.263006</td>\n",
              "      <td>31734.792969</td>\n",
              "      <td>31734.792969</td>\n",
              "      <td>31734.792969</td>\n",
              "      <td>31734.792969</td>\n",
              "      <td>31734.792969</td>\n",
              "      <td>33091584</td>\n",
              "      <td>0.000528</td>\n",
              "      <td>0.000418</td>\n",
              "    </tr>\n",
              "    <tr>\n",
              "      <th>2022-05-31 00:06:00+00:00</th>\n",
              "      <td>41</td>\n",
              "      <td>18</td>\n",
              "      <td>0.281656</td>\n",
              "      <td>31751.789062</td>\n",
              "      <td>31751.789062</td>\n",
              "      <td>31751.789062</td>\n",
              "      <td>31751.789062</td>\n",
              "      <td>31751.789062</td>\n",
              "      <td>8663040</td>\n",
              "      <td>0.000418</td>\n",
              "      <td>0.000285</td>\n",
              "    </tr>\n",
              "    <tr>\n",
              "      <th>2022-05-31 00:08:00+00:00</th>\n",
              "      <td>45</td>\n",
              "      <td>36</td>\n",
              "      <td>0.149611</td>\n",
              "      <td>31783.402344</td>\n",
              "      <td>31783.402344</td>\n",
              "      <td>31783.402344</td>\n",
              "      <td>31783.402344</td>\n",
              "      <td>31783.402344</td>\n",
              "      <td>10358784</td>\n",
              "      <td>0.000285</td>\n",
              "      <td>0.000119</td>\n",
              "    </tr>\n",
              "    <tr>\n",
              "      <th>2022-05-31 00:10:00+00:00</th>\n",
              "      <td>53</td>\n",
              "      <td>26</td>\n",
              "      <td>0.314945</td>\n",
              "      <td>31775.460938</td>\n",
              "      <td>31775.460938</td>\n",
              "      <td>31775.460938</td>\n",
              "      <td>31775.460938</td>\n",
              "      <td>31775.460938</td>\n",
              "      <td>69644288</td>\n",
              "      <td>0.000119</td>\n",
              "      <td>0.000544</td>\n",
              "    </tr>\n",
              "    <tr>\n",
              "      <th>2022-05-31 00:12:00+00:00</th>\n",
              "      <td>65</td>\n",
              "      <td>30</td>\n",
              "      <td>0.418451</td>\n",
              "      <td>31796.031250</td>\n",
              "      <td>31796.031250</td>\n",
              "      <td>31796.031250</td>\n",
              "      <td>31796.031250</td>\n",
              "      <td>31796.031250</td>\n",
              "      <td>9519104</td>\n",
              "      <td>0.000544</td>\n",
              "      <td>-0.000480</td>\n",
              "    </tr>\n",
              "  </tbody>\n",
              "</table>\n",
              "</div>\n",
              "      <button class=\"colab-df-convert\" onclick=\"convertToInteractive('df-c99bf49c-3100-4cbb-ba4c-f38127d4b2f1')\"\n",
              "              title=\"Convert this dataframe to an interactive table.\"\n",
              "              style=\"display:none;\">\n",
              "        \n",
              "  <svg xmlns=\"http://www.w3.org/2000/svg\" height=\"24px\"viewBox=\"0 0 24 24\"\n",
              "       width=\"24px\">\n",
              "    <path d=\"M0 0h24v24H0V0z\" fill=\"none\"/>\n",
              "    <path d=\"M18.56 5.44l.94 2.06.94-2.06 2.06-.94-2.06-.94-.94-2.06-.94 2.06-2.06.94zm-11 1L8.5 8.5l.94-2.06 2.06-.94-2.06-.94L8.5 2.5l-.94 2.06-2.06.94zm10 10l.94 2.06.94-2.06 2.06-.94-2.06-.94-.94-2.06-.94 2.06-2.06.94z\"/><path d=\"M17.41 7.96l-1.37-1.37c-.4-.4-.92-.59-1.43-.59-.52 0-1.04.2-1.43.59L10.3 9.45l-7.72 7.72c-.78.78-.78 2.05 0 2.83L4 21.41c.39.39.9.59 1.41.59.51 0 1.02-.2 1.41-.59l7.78-7.78 2.81-2.81c.8-.78.8-2.07 0-2.86zM5.41 20L4 18.59l7.72-7.72 1.47 1.35L5.41 20z\"/>\n",
              "  </svg>\n",
              "      </button>\n",
              "      \n",
              "  <style>\n",
              "    .colab-df-container {\n",
              "      display:flex;\n",
              "      flex-wrap:wrap;\n",
              "      gap: 12px;\n",
              "    }\n",
              "\n",
              "    .colab-df-convert {\n",
              "      background-color: #E8F0FE;\n",
              "      border: none;\n",
              "      border-radius: 50%;\n",
              "      cursor: pointer;\n",
              "      display: none;\n",
              "      fill: #1967D2;\n",
              "      height: 32px;\n",
              "      padding: 0 0 0 0;\n",
              "      width: 32px;\n",
              "    }\n",
              "\n",
              "    .colab-df-convert:hover {\n",
              "      background-color: #E2EBFA;\n",
              "      box-shadow: 0px 1px 2px rgba(60, 64, 67, 0.3), 0px 1px 3px 1px rgba(60, 64, 67, 0.15);\n",
              "      fill: #174EA6;\n",
              "    }\n",
              "\n",
              "    [theme=dark] .colab-df-convert {\n",
              "      background-color: #3B4455;\n",
              "      fill: #D2E3FC;\n",
              "    }\n",
              "\n",
              "    [theme=dark] .colab-df-convert:hover {\n",
              "      background-color: #434B5C;\n",
              "      box-shadow: 0px 1px 3px 1px rgba(0, 0, 0, 0.15);\n",
              "      filter: drop-shadow(0px 1px 2px rgba(0, 0, 0, 0.3));\n",
              "      fill: #FFFFFF;\n",
              "    }\n",
              "  </style>\n",
              "\n",
              "      <script>\n",
              "        const buttonEl =\n",
              "          document.querySelector('#df-c99bf49c-3100-4cbb-ba4c-f38127d4b2f1 button.colab-df-convert');\n",
              "        buttonEl.style.display =\n",
              "          google.colab.kernel.accessAllowed ? 'block' : 'none';\n",
              "\n",
              "        async function convertToInteractive(key) {\n",
              "          const element = document.querySelector('#df-c99bf49c-3100-4cbb-ba4c-f38127d4b2f1');\n",
              "          const dataTable =\n",
              "            await google.colab.kernel.invokeFunction('convertToInteractive',\n",
              "                                                     [key], {});\n",
              "          if (!dataTable) return;\n",
              "\n",
              "          const docLinkHtml = 'Like what you see? Visit the ' +\n",
              "            '<a target=\"_blank\" href=https://colab.research.google.com/notebooks/data_table.ipynb>data table notebook</a>'\n",
              "            + ' to learn more about interactive tables.';\n",
              "          element.innerHTML = '';\n",
              "          dataTable['output_type'] = 'display_data';\n",
              "          await google.colab.output.renderOutput(dataTable, element);\n",
              "          const docLink = document.createElement('div');\n",
              "          docLink.innerHTML = docLinkHtml;\n",
              "          element.appendChild(docLink);\n",
              "        }\n",
              "      </script>\n",
              "    </div>\n",
              "  </div>\n",
              "  "
            ],
            "text/plain": [
              "                           positive  negative  compound          Open  \\\n",
              "2022-05-31 00:04:00+00:00        27        18  0.263006  31734.792969   \n",
              "2022-05-31 00:06:00+00:00        41        18  0.281656  31751.789062   \n",
              "2022-05-31 00:08:00+00:00        45        36  0.149611  31783.402344   \n",
              "2022-05-31 00:10:00+00:00        53        26  0.314945  31775.460938   \n",
              "2022-05-31 00:12:00+00:00        65        30  0.418451  31796.031250   \n",
              "\n",
              "                                   High           Low         Close  \\\n",
              "2022-05-31 00:04:00+00:00  31734.792969  31734.792969  31734.792969   \n",
              "2022-05-31 00:06:00+00:00  31751.789062  31751.789062  31751.789062   \n",
              "2022-05-31 00:08:00+00:00  31783.402344  31783.402344  31783.402344   \n",
              "2022-05-31 00:10:00+00:00  31775.460938  31775.460938  31775.460938   \n",
              "2022-05-31 00:12:00+00:00  31796.031250  31796.031250  31796.031250   \n",
              "\n",
              "                              Adj Close    Volume  actual_returns  \\\n",
              "2022-05-31 00:04:00+00:00  31734.792969  33091584        0.000528   \n",
              "2022-05-31 00:06:00+00:00  31751.789062   8663040        0.000418   \n",
              "2022-05-31 00:08:00+00:00  31783.402344  10358784        0.000285   \n",
              "2022-05-31 00:10:00+00:00  31775.460938  69644288        0.000119   \n",
              "2022-05-31 00:12:00+00:00  31796.031250   9519104        0.000544   \n",
              "\n",
              "                           target_return  \n",
              "2022-05-31 00:04:00+00:00       0.000418  \n",
              "2022-05-31 00:06:00+00:00       0.000285  \n",
              "2022-05-31 00:08:00+00:00       0.000119  \n",
              "2022-05-31 00:10:00+00:00       0.000544  \n",
              "2022-05-31 00:12:00+00:00      -0.000480  "
            ]
          },
          "execution_count": 117,
          "metadata": {},
          "output_type": "execute_result"
        }
      ],
      "source": [
        "# Import dataset\n",
        "#normal compter import etc\n",
        "#trading_df = pd.read_csv(\n",
        " #   Path(\"Resources/final_df_without_y.csv\"), \n",
        " #   index_col=\"Unnamed: 0\", \n",
        " #   infer_datetime_format=True, \n",
        "  #  parse_dates=True\n",
        "#)\n",
        "\n",
        "#for google collab\n",
        "trading_df = pd.read_csv(\"final_df_without_y.csv\", \n",
        "    index_col=\"Unnamed: 0\", \n",
        "    infer_datetime_format=True, \n",
        "    parse_dates=True\n",
        ")\n",
        "\n",
        "# Display sample data\n",
        "trading_df.head()"
      ]
    },
    {
      "cell_type": "markdown",
      "metadata": {
        "id": "4holiZqoTBCH"
      },
      "source": [
        "### Creating the Target Set"
      ]
    },
    {
      "cell_type": "markdown",
      "metadata": {
        "id": "XOmVKw6NTBCH"
      },
      "source": []
    },
    {
      "cell_type": "code",
      "execution_count": 118,
      "metadata": {
        "id": "4PHZjMNXTBCI"
      },
      "outputs": [],
      "source": [
        "# new column in the `trading_df` called \"signal\" set its value to zero.\n",
        "trading_df[\"signal\"] = 0.0"
      ]
    },
    {
      "cell_type": "code",
      "execution_count": 119,
      "metadata": {
        "id": "dqD2PQPSTBCI"
      },
      "outputs": [],
      "source": [
        "# Create the signal to buy\n",
        "trading_df.loc[(trading_df[\"actual_returns\"] >= 0), \"signal\"] = 1"
      ]
    },
    {
      "cell_type": "code",
      "execution_count": 120,
      "metadata": {
        "id": "gyDDtfXYTBCI"
      },
      "outputs": [],
      "source": [
        "# Create the signal to sell\n",
        "trading_df.loc[(trading_df[\"actual_returns\"] < 0), \"signal\"] = -1"
      ]
    },
    {
      "cell_type": "code",
      "execution_count": 121,
      "metadata": {
        "id": "7cAHS9NsTBCI"
      },
      "outputs": [],
      "source": [
        "# Copy the new \"signal\" column to a new Series called `y`.\n",
        "y = trading_df[\"signal\"].copy()"
      ]
    },
    {
      "cell_type": "markdown",
      "metadata": {
        "id": "negVh5NeTBCJ"
      },
      "source": [
        "## Split the Data into Training and Testing Sets"
      ]
    },
    {
      "cell_type": "code",
      "execution_count": 122,
      "metadata": {
        "id": "U61pxjgsTBCJ"
      },
      "outputs": [],
      "source": [
        "# Import libraries\n",
        "from pandas.tseries.offsets import DateOffset"
      ]
    },
    {
      "cell_type": "code",
      "execution_count": 123,
      "metadata": {
        "colab": {
          "base_uri": "https://localhost:8080/"
        },
        "id": "Chi3ViZITBCJ",
        "outputId": "668aa127-eda0-4871-832f-2ef9bd174573"
      },
      "outputs": [
        {
          "name": "stdout",
          "output_type": "stream",
          "text": [
            "2022-05-31 00:04:00+00:00\n"
          ]
        }
      ],
      "source": [
        "X = trading_df[[\"positive\",\"negative\",\"compound\", \"Close\"]]\n",
        "\n",
        "# the start of the training period\n",
        "training_begin = X.index.min()\n",
        "\n",
        "# the training begin date\n",
        "print(training_begin)"
      ]
    },
    {
      "cell_type": "code",
      "execution_count": 123,
      "metadata": {
        "id": "j4udfEV2MIyX"
      },
      "outputs": [],
      "source": []
    },
    {
      "cell_type": "markdown",
      "metadata": {
        "id": "05F_hm5FTBCK"
      },
      "source": [
        "## Split the Data into Training and Testing Sets"
      ]
    },
    {
      "cell_type": "code",
      "execution_count": 124,
      "metadata": {
        "id": "AcYKwz0uTBCK"
      },
      "outputs": [],
      "source": [
        "# Import libraries\n",
        "from pandas.tseries.offsets import DateOffset"
      ]
    },
    {
      "cell_type": "code",
      "execution_count": 125,
      "metadata": {
        "colab": {
          "base_uri": "https://localhost:8080/"
        },
        "id": "RpsMTGtoTBCK",
        "outputId": "996262a7-1542-46fb-ca2b-ee8b7546ae60"
      },
      "outputs": [
        {
          "name": "stdout",
          "output_type": "stream",
          "text": [
            "2022-06-02 00:04:00+00:00\n"
          ]
        }
      ],
      "source": [
        "#ending period for training data with an offset of 2days\n",
        "training_end = X.index.min() + DateOffset(days=2)\n",
        "\n",
        "# Display the training end date\n",
        "print(training_end)"
      ]
    },
    {
      "cell_type": "code",
      "execution_count": 126,
      "metadata": {
        "id": "eTqr9AkwTBCK"
      },
      "outputs": [],
      "source": [
        "# Generate the X_train and y_train DataFrames\n",
        "X_train = X.loc[training_begin:training_end]\n",
        "y_train = y.loc[training_begin:training_end]"
      ]
    },
    {
      "cell_type": "code",
      "execution_count": 127,
      "metadata": {
        "id": "kVe4SHihTBCK"
      },
      "outputs": [],
      "source": [
        "# Generate the X_test and y_test DataFrames\n",
        "X_test = X.loc[training_end:]\n",
        "y_test = y.loc[training_end:]"
      ]
    },
    {
      "cell_type": "markdown",
      "metadata": {
        "id": "maY7-ThzTBCK"
      },
      "source": [
        "## Standardize the Data"
      ]
    },
    {
      "cell_type": "code",
      "execution_count": 128,
      "metadata": {
        "id": "1bO8kIq1TBCL"
      },
      "outputs": [],
      "source": [
        "# Import libraries\n",
        "from sklearn.preprocessing import StandardScaler"
      ]
    },
    {
      "cell_type": "code",
      "execution_count": 129,
      "metadata": {
        "id": "D0t1QAcaTBCL"
      },
      "outputs": [],
      "source": [
        "# StandardScaler instancCloseCC\n",
        "scaler = StandardScaler()\n",
        " \n",
        "#scaler model to fit the X-train data\n",
        "X_scaler = scaler.fit(X_train)\n",
        " \n",
        "# Transform the X_train and X_test DataFrames using X_scaler\n",
        "X_train_scaled = X_scaler.transform(X_train)\n",
        "X_test_scaled = X_scaler.transform(X_test)"
      ]
    },
    {
      "cell_type": "markdown",
      "metadata": {
        "id": "3XzOa8UrTBCL"
      },
      "source": [
        "---\n",
        "\n",
        "## Using Machine Learning Into a Trading Strategy"
      ]
    },
    {
      "cell_type": "code",
      "execution_count": 131,
      "metadata": {
        "id": "T3wYZP3LLP3H"
      },
      "outputs": [],
      "source": []
    },
    {
      "cell_type": "code",
      "execution_count": null,
      "metadata": {
        "id": "8zfiXqK4pDgg"
      },
      "outputs": [],
      "source": []
    },
    {
      "cell_type": "code",
      "execution_count": 151,
      "metadata": {
        "id": "2lFUOWi2V_ZC"
      },
      "outputs": [],
      "source": [
        "#experiment\n",
        "#https://jovian.ai/nagendhiran-r/predicting-stock-price-using-pytorch\n",
        "#pytorch predicting stock price reference notebook^\n",
        "import torch\n",
        "import torch.nn as nn\n",
        "x_train = X_train\n",
        "x_test = X_test\n",
        "\n",
        "#df to np\n",
        "x_train = x_train.values\n",
        "y_train_lstm = y_test.values\n",
        "x_test = x_test.values\n",
        "\n",
        "#y_train = y_train.to_numpy()\n",
        "\n",
        "x_train = torch.from_numpy(x_train).type(torch.Tensor)\n",
        "y_train_lstm = torch.from_numpy(y_train).type(torch.Tensor)\n",
        "\n",
        "x_test = torch.from_numpy(x_test).type(torch.Tensor)\n",
        "y_test_lstm = torch.from_numpy(y_test.values).type(torch.Tensor)\n",
        "\n",
        "input_dim = 1\n",
        "hidden_dim = 16\n",
        "num_layers = 3\n",
        "output_dim = 1\n",
        "num_epochs = 500"
      ]
    },
    {
      "cell_type": "code",
      "execution_count": 145,
      "metadata": {
        "id": "_VgAF6GPV_fh"
      },
      "outputs": [],
      "source": [
        "class LSTM(nn.Module):\n",
        "    def __init__(self, input_dim, hidden_dim, num_layers, output_dim):\n",
        "        super(LSTM, self).__init__()\n",
        "        self.hidden_dim = hidden_dim\n",
        "        self.num_layers = num_layers\n",
        "        self.lstm = nn.LSTM(input_dim, hidden_dim, num_layers, batch_first=True)\n",
        "        self.fc = nn.Linear(hidden_dim, output_dim)\n",
        "\n",
        "    def forward(self, x):\n",
        "        #h0 = torch.zeros(self.num_layers, x.size(0), self.hidden_dim).requires_grad_() #https://stackoverflow.com/questions/71486886/batched-input-shows-3d-but-got-2d-2d-tensor\n",
        "        #c0 = torch.zeros(self.num_layers, x.size(0), self.hidden_dim).requires_grad_()\n",
        "        h_0 = torch.randn(self.num_directions * self.num_layers, self.batch_size, self.hidden_size) #from stackoverflow\n",
        "        c_0 = torch.randn(self.num_directions * self.num_layers, self.batch_size, self.hidden_size)#from stackoverflow\n",
        "        x, _ = self.BELT_LSTM(x, (h_0, c_0))#from stackoverflow\n",
        "        out, (hn, cn) = self.lstm(x, (h0.detach(), c0.detach())) #2\n",
        "        out = self.fc(out[:, -1, :]) \n",
        "        return out\n",
        "\n",
        "model = LSTM(input_dim=input_dim, hidden_dim=hidden_dim, output_dim=output_dim, num_layers=num_layers)\n",
        "criterion = torch.nn.MSELoss(reduction='mean')\n",
        "optimiser = torch.optim.Adam(model.parameters(), lr=0.01)"
      ]
    },
    {
      "cell_type": "code",
      "execution_count": 148,
      "metadata": {
        "colab": {
          "base_uri": "https://localhost:8080/",
          "height": 405
        },
        "id": "vlef0Q-iW1BT",
        "outputId": "6906f049-df66-4cc0-d126-bf03edb91da5"
      },
      "outputs": [
        {
          "ename": "AttributeError",
          "evalue": "ignored",
          "output_type": "error",
          "traceback": [
            "\u001b[0;31m---------------------------------------------------------------------------\u001b[0m",
            "\u001b[0;31mAttributeError\u001b[0m                            Traceback (most recent call last)",
            "\u001b[0;32m<ipython-input-148-561243bfaad1>\u001b[0m in \u001b[0;36m<module>\u001b[0;34m()\u001b[0m\n\u001b[1;32m      5\u001b[0m \u001b[0;34m\u001b[0m\u001b[0m\n\u001b[1;32m      6\u001b[0m \u001b[0;32mfor\u001b[0m \u001b[0mt\u001b[0m \u001b[0;32min\u001b[0m \u001b[0mrange\u001b[0m\u001b[0;34m(\u001b[0m\u001b[0mnum_epochs\u001b[0m\u001b[0;34m)\u001b[0m\u001b[0;34m:\u001b[0m\u001b[0;34m\u001b[0m\u001b[0;34m\u001b[0m\u001b[0m\n\u001b[0;32m----> 7\u001b[0;31m     \u001b[0my_train_pred\u001b[0m \u001b[0;34m=\u001b[0m \u001b[0mmodel\u001b[0m\u001b[0;34m(\u001b[0m\u001b[0mx_train\u001b[0m\u001b[0;34m)\u001b[0m\u001b[0;34m\u001b[0m\u001b[0;34m\u001b[0m\u001b[0m\n\u001b[0m\u001b[1;32m      8\u001b[0m \u001b[0;34m\u001b[0m\u001b[0m\n\u001b[1;32m      9\u001b[0m     \u001b[0mloss\u001b[0m \u001b[0;34m=\u001b[0m \u001b[0mcriterion\u001b[0m\u001b[0;34m(\u001b[0m\u001b[0my_train_pred\u001b[0m\u001b[0;34m,\u001b[0m \u001b[0my_train_lstm\u001b[0m\u001b[0;34m)\u001b[0m\u001b[0;34m\u001b[0m\u001b[0;34m\u001b[0m\u001b[0m\n",
            "\u001b[0;32m/usr/local/lib/python3.7/dist-packages/torch/nn/modules/module.py\u001b[0m in \u001b[0;36m_call_impl\u001b[0;34m(self, *input, **kwargs)\u001b[0m\n\u001b[1;32m   1108\u001b[0m         if not (self._backward_hooks or self._forward_hooks or self._forward_pre_hooks or _global_backward_hooks\n\u001b[1;32m   1109\u001b[0m                 or _global_forward_hooks or _global_forward_pre_hooks):\n\u001b[0;32m-> 1110\u001b[0;31m             \u001b[0;32mreturn\u001b[0m \u001b[0mforward_call\u001b[0m\u001b[0;34m(\u001b[0m\u001b[0;34m*\u001b[0m\u001b[0minput\u001b[0m\u001b[0;34m,\u001b[0m \u001b[0;34m**\u001b[0m\u001b[0mkwargs\u001b[0m\u001b[0;34m)\u001b[0m\u001b[0;34m\u001b[0m\u001b[0;34m\u001b[0m\u001b[0m\n\u001b[0m\u001b[1;32m   1111\u001b[0m         \u001b[0;31m# Do not call functions when jit is used\u001b[0m\u001b[0;34m\u001b[0m\u001b[0;34m\u001b[0m\u001b[0;34m\u001b[0m\u001b[0m\n\u001b[1;32m   1112\u001b[0m         \u001b[0mfull_backward_hooks\u001b[0m\u001b[0;34m,\u001b[0m \u001b[0mnon_full_backward_hooks\u001b[0m \u001b[0;34m=\u001b[0m \u001b[0;34m[\u001b[0m\u001b[0;34m]\u001b[0m\u001b[0;34m,\u001b[0m \u001b[0;34m[\u001b[0m\u001b[0;34m]\u001b[0m\u001b[0;34m\u001b[0m\u001b[0;34m\u001b[0m\u001b[0m\n",
            "\u001b[0;32m<ipython-input-145-5ca6b760472e>\u001b[0m in \u001b[0;36mforward\u001b[0;34m(self, x)\u001b[0m\n\u001b[1;32m     10\u001b[0m         \u001b[0;31m#h0 = torch.zeros(self.num_layers, x.size(0), self.hidden_dim).requires_grad_()\u001b[0m\u001b[0;34m\u001b[0m\u001b[0;34m\u001b[0m\u001b[0;34m\u001b[0m\u001b[0m\n\u001b[1;32m     11\u001b[0m         \u001b[0;31m#c0 = torch.zeros(self.num_layers, x.size(0), self.hidden_dim).requires_grad_()\u001b[0m\u001b[0;34m\u001b[0m\u001b[0;34m\u001b[0m\u001b[0;34m\u001b[0m\u001b[0m\n\u001b[0;32m---> 12\u001b[0;31m         \u001b[0mh_0\u001b[0m \u001b[0;34m=\u001b[0m \u001b[0mtorch\u001b[0m\u001b[0;34m.\u001b[0m\u001b[0mrandn\u001b[0m\u001b[0;34m(\u001b[0m\u001b[0mself\u001b[0m\u001b[0;34m.\u001b[0m\u001b[0mnum_directions\u001b[0m \u001b[0;34m*\u001b[0m \u001b[0mself\u001b[0m\u001b[0;34m.\u001b[0m\u001b[0mnum_layers\u001b[0m\u001b[0;34m,\u001b[0m \u001b[0mself\u001b[0m\u001b[0;34m.\u001b[0m\u001b[0mbatch_size\u001b[0m\u001b[0;34m,\u001b[0m \u001b[0mself\u001b[0m\u001b[0;34m.\u001b[0m\u001b[0mhidden_size\u001b[0m\u001b[0;34m)\u001b[0m\u001b[0;34m\u001b[0m\u001b[0;34m\u001b[0m\u001b[0m\n\u001b[0m\u001b[1;32m     13\u001b[0m         \u001b[0mc_0\u001b[0m \u001b[0;34m=\u001b[0m \u001b[0mtorch\u001b[0m\u001b[0;34m.\u001b[0m\u001b[0mrandn\u001b[0m\u001b[0;34m(\u001b[0m\u001b[0mself\u001b[0m\u001b[0;34m.\u001b[0m\u001b[0mnum_directions\u001b[0m \u001b[0;34m*\u001b[0m \u001b[0mself\u001b[0m\u001b[0;34m.\u001b[0m\u001b[0mnum_layers\u001b[0m\u001b[0;34m,\u001b[0m \u001b[0mself\u001b[0m\u001b[0;34m.\u001b[0m\u001b[0mbatch_size\u001b[0m\u001b[0;34m,\u001b[0m \u001b[0mself\u001b[0m\u001b[0;34m.\u001b[0m\u001b[0mhidden_size\u001b[0m\u001b[0;34m)\u001b[0m\u001b[0;34m\u001b[0m\u001b[0;34m\u001b[0m\u001b[0m\n\u001b[1;32m     14\u001b[0m         \u001b[0mx\u001b[0m\u001b[0;34m,\u001b[0m \u001b[0m_\u001b[0m \u001b[0;34m=\u001b[0m \u001b[0mself\u001b[0m\u001b[0;34m.\u001b[0m\u001b[0mBELT_LSTM\u001b[0m\u001b[0;34m(\u001b[0m\u001b[0mx\u001b[0m\u001b[0;34m,\u001b[0m \u001b[0;34m(\u001b[0m\u001b[0mh_0\u001b[0m\u001b[0;34m,\u001b[0m \u001b[0mc_0\u001b[0m\u001b[0;34m)\u001b[0m\u001b[0;34m)\u001b[0m\u001b[0;34m\u001b[0m\u001b[0;34m\u001b[0m\u001b[0m\n",
            "\u001b[0;32m/usr/local/lib/python3.7/dist-packages/torch/nn/modules/module.py\u001b[0m in \u001b[0;36m__getattr__\u001b[0;34m(self, name)\u001b[0m\n\u001b[1;32m   1184\u001b[0m                 \u001b[0;32mreturn\u001b[0m \u001b[0mmodules\u001b[0m\u001b[0;34m[\u001b[0m\u001b[0mname\u001b[0m\u001b[0;34m]\u001b[0m\u001b[0;34m\u001b[0m\u001b[0;34m\u001b[0m\u001b[0m\n\u001b[1;32m   1185\u001b[0m         raise AttributeError(\"'{}' object has no attribute '{}'\".format(\n\u001b[0;32m-> 1186\u001b[0;31m             type(self).__name__, name))\n\u001b[0m\u001b[1;32m   1187\u001b[0m \u001b[0;34m\u001b[0m\u001b[0m\n\u001b[1;32m   1188\u001b[0m     \u001b[0;32mdef\u001b[0m \u001b[0m__setattr__\u001b[0m\u001b[0;34m(\u001b[0m\u001b[0mself\u001b[0m\u001b[0;34m,\u001b[0m \u001b[0mname\u001b[0m\u001b[0;34m:\u001b[0m \u001b[0mstr\u001b[0m\u001b[0;34m,\u001b[0m \u001b[0mvalue\u001b[0m\u001b[0;34m:\u001b[0m \u001b[0mUnion\u001b[0m\u001b[0;34m[\u001b[0m\u001b[0mTensor\u001b[0m\u001b[0;34m,\u001b[0m \u001b[0;34m'Module'\u001b[0m\u001b[0;34m]\u001b[0m\u001b[0;34m)\u001b[0m \u001b[0;34m->\u001b[0m \u001b[0;32mNone\u001b[0m\u001b[0;34m:\u001b[0m\u001b[0;34m\u001b[0m\u001b[0;34m\u001b[0m\u001b[0m\n",
            "\u001b[0;31mAttributeError\u001b[0m: 'LSTM' object has no attribute 'num_directions'"
          ]
        }
      ],
      "source": [
        "import time\n",
        "hist = np.zeros(num_epochs)\n",
        "start_time = time.time()\n",
        "lstm = []\n",
        "\n",
        "for t in range(num_epochs):\n",
        "    y_train_pred = model(x_train)\n",
        "\n",
        "    loss = criterion(y_train_pred, y_train_lstm)\n",
        "    print(\"Epoch \", t, \"MSE: \", loss.item())\n",
        "    hist[t] = loss.item()\n",
        "\n",
        "    optimiser.zero_grad()\n",
        "    loss.backward()\n",
        "    optimiser.step()\n",
        "\n",
        "training_time = time.time()-start_time\n",
        "print(\"Training time: {}\".format(training_time))"
      ]
    },
    {
      "cell_type": "code",
      "execution_count": null,
      "metadata": {
        "id": "vsvIw4deWsmR"
      },
      "outputs": [],
      "source": []
    },
    {
      "cell_type": "code",
      "execution_count": 91,
      "metadata": {
        "id": "pA0tE6ZYV_mC"
      },
      "outputs": [],
      "source": []
    },
    {
      "cell_type": "code",
      "execution_count": 92,
      "metadata": {
        "id": "uGwSPE2rTBCL"
      },
      "outputs": [],
      "source": []
    },
    {
      "cell_type": "code",
      "execution_count": 149,
      "metadata": {
        "id": "232BoP9DTBCL"
      },
      "outputs": [],
      "source": []
    },
    {
      "cell_type": "code",
      "execution_count": 149,
      "metadata": {
        "id": "KS3sp0OHTBCL"
      },
      "outputs": [],
      "source": [
        "## Evaluate the model using a classification report\n",
        "#training_report = classification_report(y_train, training_signal_predictions)\n",
        "\n",
        "# Display the report\n",
        "#print(training_report)"
      ]
    },
    {
      "cell_type": "markdown",
      "metadata": {
        "id": "Ex9dJo2wTBCL"
      },
      "source": [
        "### Backtesting a Machine Learning Trading Algorithm"
      ]
    },
    {
      "cell_type": "code",
      "execution_count": 20,
      "metadata": {
        "id": "HF5WubfqTBCL"
      },
      "outputs": [],
      "source": [
        "# Use the trained model to predict the trading signals for the testing data.\n",
        "#testing_signal_predictions = svm_model.predict(X_test_scaled)"
      ]
    },
    {
      "cell_type": "code",
      "execution_count": 150,
      "metadata": {
        "id": "HVD3GjnyTBCM"
      },
      "outputs": [],
      "source": [
        "# Evaluate the model's ability to predict the trading signal for the testing data\n",
        "#testing_report = classification_report(y_test, testing_signal_predictions)\n",
        "\n",
        "# Display the report\n",
        "#print(testing_report)"
      ]
    },
    {
      "cell_type": "markdown",
      "metadata": {
        "id": "HycGw-u2TBCM"
      },
      "source": [
        "### Visually Compare the Actual and Predicted Returns"
      ]
    },
    {
      "cell_type": "code",
      "execution_count": 23,
      "metadata": {
        "id": "aJvWlPSaTBCM"
      },
      "outputs": [],
      "source": []
    },
    {
      "cell_type": "code",
      "execution_count": null,
      "metadata": {
        "id": "EPxr_jTQpEtT"
      },
      "outputs": [],
      "source": [
        "\n",
        "\n",
        "#experiment 2  \n",
        "#https://www.kaggle.com/code/gcdatkin/house-sale-price-prediction-tensorflow-pytorch/notebook\n",
        "#pytorch predicting house price reference^\n",
        "\n",
        "#improts\n",
        "import tensorflow as tf\n",
        "import torch\n",
        "import torch.nn as nn\n",
        "import torch.nn.functional as F\n",
        "\n",
        "#inputs = tf.keras.Input(shape=(88,))\n",
        "#hidden = tf.keras.layers.Dense(64, activation='relu')(inputs)\n",
        "#hidden = tf.keras.layers.Dense(64, activation='relu')(hidden)\n",
        "#outputs = tf.keras.layers.Dense(1, activation='linear')(hidden)\n",
        "\n",
        "#tf_model = tf.keras.Model(inputs, outputs)\n",
        "\n",
        "\n",
        "#tf_model.compile(\n",
        " #   optimizer='adam',\n",
        "  #  loss='mse'\n",
        "#)\n",
        "\n",
        "\n",
        "#history = tf_model.fit(\n",
        "  #  X_train,\n",
        " #  y_train,\n",
        "  #  validation_split=0.12,\n",
        "  #  batch_size=32,\n",
        "  #  epochs=10\n",
        "#)"
      ]
    }
  ],
  "metadata": {
    "colab": {
      "name": "pytorch-testing.ipynb",
      "provenance": []
    },
    "interpreter": {
      "hash": "1b92770ef413de33e286afc17c085f736ff1d93160bf316611fee8719d7db70e"
    },
    "kernelspec": {
      "display_name": "Python 3.7.13 ('algotrading')",
      "language": "python",
      "name": "python3"
    },
    "language_info": {
      "codemirror_mode": {
        "name": "ipython",
        "version": 3
      },
      "file_extension": ".py",
      "mimetype": "text/x-python",
      "name": "python",
      "nbconvert_exporter": "python",
      "pygments_lexer": "ipython3",
      "version": "3.7.13"
    }
  },
  "nbformat": 4,
  "nbformat_minor": 0
}
